{
 "cells": [
  {
   "cell_type": "code",
   "execution_count": 24,
   "metadata": {},
   "outputs": [
    {
     "name": "stdout",
     "output_type": "stream",
     "text": [
      "import os : Success\n",
      "import sys : Success\n",
      "import tensorflow as tf : Success\n",
      "import keras : Success\n",
      "import gensim : Success\n",
      "import sklearn : Success\n",
      "import pandas as pd : Success\n",
      "import pandas_profiling : Success\n",
      "import numpy as np : Success\n",
      "import nltk : Success\n",
      "import konlpy : Success\n",
      "작동\n"
     ]
    }
   ],
   "source": [
    "%run profiler.ipynb\n",
    "\n",
    "def main(argv):    \n",
    "    print('작동')\n",
    "\n",
    "if __name__ == '__main__':\n",
    "    main(sys.argv)\n"
   ]
  },
  {
   "cell_type": "code",
   "execution_count": null,
   "metadata": {},
   "outputs": [],
   "source": []
  }
 ],
 "metadata": {
  "kernelspec": {
   "display_name": "Python 3",
   "language": "python",
   "name": "python3"
  },
  "language_info": {
   "codemirror_mode": {
    "name": "ipython",
    "version": 3
   },
   "file_extension": ".py",
   "mimetype": "text/x-python",
   "name": "python",
   "nbconvert_exporter": "python",
   "pygments_lexer": "ipython3",
   "version": "3.6.10"
  }
 },
 "nbformat": 4,
 "nbformat_minor": 4
}
