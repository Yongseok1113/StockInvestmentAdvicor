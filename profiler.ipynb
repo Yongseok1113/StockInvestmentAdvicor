{
 "cells": [
  {
   "cell_type": "code",
   "execution_count": 2,
   "metadata": {},
   "outputs": [
    {
     "name": "stdout",
     "output_type": "stream",
     "text": [
      "import tensorflow as tf : Success\n",
      "import keras : Success\n",
      "import gensim : Success\n",
      "import sklearn : Success\n",
      "import pandas as pd : Success\n",
      "import pandas_profiling : Success\n",
      "import numpy as np : Success\n",
      "import nltk : Success\n",
      "import konlpy : Success\n"
     ]
    }
   ],
   "source": [
    "try:\n",
    "    import os\n",
    "    print('import os : Success')\n",
    "    import sys\n",
    "    print('import sys : Success')\n",
    "    \n",
    "    import tensorflow as tf\n",
    "    print('import tensorflow as tf : Success')\n",
    "    import keras\n",
    "    print('import keras : Success')\n",
    "    import gensim\n",
    "    print('import gensim : Success')\n",
    "    import sklearn\n",
    "    print('import sklearn : Success')\n",
    "    \n",
    "    import pandas as pd\n",
    "    print('import pandas as pd : Success')\n",
    "    import pandas_profiling\n",
    "    print('import pandas_profiling : Success')\n",
    "    # pd.DataFrame.profile_report() -> 데이터 프레임 누락율, 데이터형 등 유용한 요약해줌\n",
    "    import numpy as np\n",
    "    print('import numpy as np : Success')\n",
    "    \n",
    "    import nltk\n",
    "    print('import nltk : Success')\n",
    "    # nltk data 없음 이슈 발생 시 nltk.download() 입력\n",
    "    import konlpy\n",
    "    print('import konlpy : Success')\n",
    "    \n",
    "    print('=== module import Complete ===')\n",
    "except Exception as e:\n",
    "    print('### Error! : {}'.format(e))"
   ]
  }
 ],
 "metadata": {
  "kernelspec": {
   "display_name": "Python 3",
   "language": "python",
   "name": "python3"
  },
  "language_info": {
   "codemirror_mode": {
    "name": "ipython",
    "version": 3
   },
   "file_extension": ".py",
   "mimetype": "text/x-python",
   "name": "python",
   "nbconvert_exporter": "python",
   "pygments_lexer": "ipython3",
   "version": "3.6.10"
  }
 },
 "nbformat": 4,
 "nbformat_minor": 4
}
